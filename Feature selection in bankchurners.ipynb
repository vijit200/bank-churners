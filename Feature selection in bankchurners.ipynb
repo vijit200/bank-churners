{
 "cells": [
  {
   "cell_type": "code",
   "execution_count": 1,
   "metadata": {},
   "outputs": [],
   "source": [
    "import pandas as pd\n",
    "from sklearn.preprocessing import MinMaxScaler"
   ]
  },
  {
   "cell_type": "code",
   "execution_count": 2,
   "metadata": {},
   "outputs": [],
   "source": [
    "df=pd.read_csv('BC.csv')"
   ]
  },
  {
   "cell_type": "code",
   "execution_count": 3,
   "metadata": {},
   "outputs": [
    {
     "data": {
      "text/html": [
       "<div>\n",
       "<style scoped>\n",
       "    .dataframe tbody tr th:only-of-type {\n",
       "        vertical-align: middle;\n",
       "    }\n",
       "\n",
       "    .dataframe tbody tr th {\n",
       "        vertical-align: top;\n",
       "    }\n",
       "\n",
       "    .dataframe thead th {\n",
       "        text-align: right;\n",
       "    }\n",
       "</style>\n",
       "<table border=\"1\" class=\"dataframe\">\n",
       "  <thead>\n",
       "    <tr style=\"text-align: right;\">\n",
       "      <th></th>\n",
       "      <th>CLIENTNUM</th>\n",
       "      <th>Attrition_Flag</th>\n",
       "      <th>Customer_Age</th>\n",
       "      <th>Dependent_count</th>\n",
       "      <th>Months_on_book</th>\n",
       "      <th>Total_Relationship_Count</th>\n",
       "      <th>Months_Inactive_12_mon</th>\n",
       "      <th>Contacts_Count_12_mon</th>\n",
       "      <th>Credit_Limit</th>\n",
       "      <th>Total_Revolving_Bal</th>\n",
       "      <th>Avg_Open_To_Buy</th>\n",
       "      <th>Total_Amt_Chng_Q4_Q1</th>\n",
       "      <th>Total_Trans_Amt</th>\n",
       "      <th>Total_Trans_Ct</th>\n",
       "      <th>Total_Ct_Chng_Q4_Q1</th>\n",
       "      <th>Avg_Utilization_Ratio</th>\n",
       "      <th>sex</th>\n",
       "      <th>Degree</th>\n",
       "      <th>Income</th>\n",
       "      <th>Category</th>\n",
       "    </tr>\n",
       "  </thead>\n",
       "  <tbody>\n",
       "    <tr>\n",
       "      <th>0</th>\n",
       "      <td>768805383</td>\n",
       "      <td>1</td>\n",
       "      <td>45</td>\n",
       "      <td>3</td>\n",
       "      <td>39</td>\n",
       "      <td>5</td>\n",
       "      <td>1</td>\n",
       "      <td>3</td>\n",
       "      <td>12691.0</td>\n",
       "      <td>777</td>\n",
       "      <td>11914.0</td>\n",
       "      <td>1.335</td>\n",
       "      <td>1144</td>\n",
       "      <td>42</td>\n",
       "      <td>1.625</td>\n",
       "      <td>0.061</td>\n",
       "      <td>1</td>\n",
       "      <td>3</td>\n",
       "      <td>2</td>\n",
       "      <td>0</td>\n",
       "    </tr>\n",
       "    <tr>\n",
       "      <th>1</th>\n",
       "      <td>818770008</td>\n",
       "      <td>1</td>\n",
       "      <td>49</td>\n",
       "      <td>5</td>\n",
       "      <td>44</td>\n",
       "      <td>6</td>\n",
       "      <td>1</td>\n",
       "      <td>2</td>\n",
       "      <td>8256.0</td>\n",
       "      <td>864</td>\n",
       "      <td>7392.0</td>\n",
       "      <td>1.541</td>\n",
       "      <td>1291</td>\n",
       "      <td>33</td>\n",
       "      <td>3.714</td>\n",
       "      <td>0.105</td>\n",
       "      <td>0</td>\n",
       "      <td>2</td>\n",
       "      <td>4</td>\n",
       "      <td>0</td>\n",
       "    </tr>\n",
       "    <tr>\n",
       "      <th>2</th>\n",
       "      <td>713982108</td>\n",
       "      <td>1</td>\n",
       "      <td>51</td>\n",
       "      <td>3</td>\n",
       "      <td>36</td>\n",
       "      <td>4</td>\n",
       "      <td>1</td>\n",
       "      <td>0</td>\n",
       "      <td>3418.0</td>\n",
       "      <td>0</td>\n",
       "      <td>3418.0</td>\n",
       "      <td>2.594</td>\n",
       "      <td>1887</td>\n",
       "      <td>20</td>\n",
       "      <td>2.333</td>\n",
       "      <td>0.000</td>\n",
       "      <td>1</td>\n",
       "      <td>2</td>\n",
       "      <td>3</td>\n",
       "      <td>0</td>\n",
       "    </tr>\n",
       "    <tr>\n",
       "      <th>3</th>\n",
       "      <td>769911858</td>\n",
       "      <td>1</td>\n",
       "      <td>40</td>\n",
       "      <td>4</td>\n",
       "      <td>34</td>\n",
       "      <td>3</td>\n",
       "      <td>4</td>\n",
       "      <td>1</td>\n",
       "      <td>3313.0</td>\n",
       "      <td>2517</td>\n",
       "      <td>796.0</td>\n",
       "      <td>1.405</td>\n",
       "      <td>1171</td>\n",
       "      <td>20</td>\n",
       "      <td>2.333</td>\n",
       "      <td>0.760</td>\n",
       "      <td>0</td>\n",
       "      <td>3</td>\n",
       "      <td>4</td>\n",
       "      <td>0</td>\n",
       "    </tr>\n",
       "    <tr>\n",
       "      <th>4</th>\n",
       "      <td>709106358</td>\n",
       "      <td>1</td>\n",
       "      <td>40</td>\n",
       "      <td>3</td>\n",
       "      <td>21</td>\n",
       "      <td>5</td>\n",
       "      <td>1</td>\n",
       "      <td>0</td>\n",
       "      <td>4716.0</td>\n",
       "      <td>0</td>\n",
       "      <td>4716.0</td>\n",
       "      <td>2.175</td>\n",
       "      <td>816</td>\n",
       "      <td>28</td>\n",
       "      <td>2.500</td>\n",
       "      <td>0.000</td>\n",
       "      <td>1</td>\n",
       "      <td>5</td>\n",
       "      <td>2</td>\n",
       "      <td>0</td>\n",
       "    </tr>\n",
       "  </tbody>\n",
       "</table>\n",
       "</div>"
      ],
      "text/plain": [
       "   CLIENTNUM  Attrition_Flag  Customer_Age  Dependent_count  Months_on_book  \\\n",
       "0  768805383               1            45                3              39   \n",
       "1  818770008               1            49                5              44   \n",
       "2  713982108               1            51                3              36   \n",
       "3  769911858               1            40                4              34   \n",
       "4  709106358               1            40                3              21   \n",
       "\n",
       "   Total_Relationship_Count  Months_Inactive_12_mon  Contacts_Count_12_mon  \\\n",
       "0                         5                       1                      3   \n",
       "1                         6                       1                      2   \n",
       "2                         4                       1                      0   \n",
       "3                         3                       4                      1   \n",
       "4                         5                       1                      0   \n",
       "\n",
       "   Credit_Limit  Total_Revolving_Bal  Avg_Open_To_Buy  Total_Amt_Chng_Q4_Q1  \\\n",
       "0       12691.0                  777          11914.0                 1.335   \n",
       "1        8256.0                  864           7392.0                 1.541   \n",
       "2        3418.0                    0           3418.0                 2.594   \n",
       "3        3313.0                 2517            796.0                 1.405   \n",
       "4        4716.0                    0           4716.0                 2.175   \n",
       "\n",
       "   Total_Trans_Amt  Total_Trans_Ct  Total_Ct_Chng_Q4_Q1  \\\n",
       "0             1144              42                1.625   \n",
       "1             1291              33                3.714   \n",
       "2             1887              20                2.333   \n",
       "3             1171              20                2.333   \n",
       "4              816              28                2.500   \n",
       "\n",
       "   Avg_Utilization_Ratio  sex  Degree  Income  Category  \n",
       "0                  0.061    1       3       2         0  \n",
       "1                  0.105    0       2       4         0  \n",
       "2                  0.000    1       2       3         0  \n",
       "3                  0.760    0       3       4         0  \n",
       "4                  0.000    1       5       2         0  "
      ]
     },
     "execution_count": 3,
     "metadata": {},
     "output_type": "execute_result"
    }
   ],
   "source": [
    "df.head()"
   ]
  },
  {
   "cell_type": "code",
   "execution_count": 4,
   "metadata": {},
   "outputs": [],
   "source": [
    "feature_scale=[feature for feature in df.columns if feature not in ['Attrition_Flag']]"
   ]
  },
  {
   "cell_type": "code",
   "execution_count": 5,
   "metadata": {},
   "outputs": [
    {
     "data": {
      "text/plain": [
       "MinMaxScaler()"
      ]
     },
     "execution_count": 5,
     "metadata": {},
     "output_type": "execute_result"
    }
   ],
   "source": [
    "scaler=MinMaxScaler()\n",
    "scaler.fit(df[feature_scale])"
   ]
  },
  {
   "cell_type": "code",
   "execution_count": 6,
   "metadata": {},
   "outputs": [],
   "source": [
    "df2=pd.concat([df['Attrition_Flag'].reset_index(drop=True),pd.DataFrame(scaler.transform(df[feature_scale]),columns=feature_scale)],axis=1)"
   ]
  },
  {
   "cell_type": "code",
   "execution_count": 7,
   "metadata": {},
   "outputs": [
    {
     "data": {
      "text/html": [
       "<div>\n",
       "<style scoped>\n",
       "    .dataframe tbody tr th:only-of-type {\n",
       "        vertical-align: middle;\n",
       "    }\n",
       "\n",
       "    .dataframe tbody tr th {\n",
       "        vertical-align: top;\n",
       "    }\n",
       "\n",
       "    .dataframe thead th {\n",
       "        text-align: right;\n",
       "    }\n",
       "</style>\n",
       "<table border=\"1\" class=\"dataframe\">\n",
       "  <thead>\n",
       "    <tr style=\"text-align: right;\">\n",
       "      <th></th>\n",
       "      <th>Attrition_Flag</th>\n",
       "      <th>CLIENTNUM</th>\n",
       "      <th>Customer_Age</th>\n",
       "      <th>Dependent_count</th>\n",
       "      <th>Months_on_book</th>\n",
       "      <th>Total_Relationship_Count</th>\n",
       "      <th>Months_Inactive_12_mon</th>\n",
       "      <th>Contacts_Count_12_mon</th>\n",
       "      <th>Credit_Limit</th>\n",
       "      <th>Total_Revolving_Bal</th>\n",
       "      <th>Avg_Open_To_Buy</th>\n",
       "      <th>Total_Amt_Chng_Q4_Q1</th>\n",
       "      <th>Total_Trans_Amt</th>\n",
       "      <th>Total_Trans_Ct</th>\n",
       "      <th>Total_Ct_Chng_Q4_Q1</th>\n",
       "      <th>Avg_Utilization_Ratio</th>\n",
       "      <th>sex</th>\n",
       "      <th>Degree</th>\n",
       "      <th>Income</th>\n",
       "      <th>Category</th>\n",
       "    </tr>\n",
       "  </thead>\n",
       "  <tbody>\n",
       "    <tr>\n",
       "      <th>0</th>\n",
       "      <td>1</td>\n",
       "      <td>0.504929</td>\n",
       "      <td>0.404255</td>\n",
       "      <td>0.6</td>\n",
       "      <td>0.604651</td>\n",
       "      <td>0.8</td>\n",
       "      <td>0.166667</td>\n",
       "      <td>0.500000</td>\n",
       "      <td>0.340190</td>\n",
       "      <td>0.308701</td>\n",
       "      <td>0.345116</td>\n",
       "      <td>0.392994</td>\n",
       "      <td>0.035273</td>\n",
       "      <td>0.248062</td>\n",
       "      <td>0.437534</td>\n",
       "      <td>0.061061</td>\n",
       "      <td>1.0</td>\n",
       "      <td>0.500000</td>\n",
       "      <td>0.4</td>\n",
       "      <td>0.0</td>\n",
       "    </tr>\n",
       "    <tr>\n",
       "      <th>1</th>\n",
       "      <td>1</td>\n",
       "      <td>0.920398</td>\n",
       "      <td>0.489362</td>\n",
       "      <td>1.0</td>\n",
       "      <td>0.720930</td>\n",
       "      <td>1.0</td>\n",
       "      <td>0.166667</td>\n",
       "      <td>0.333333</td>\n",
       "      <td>0.206112</td>\n",
       "      <td>0.343266</td>\n",
       "      <td>0.214093</td>\n",
       "      <td>0.453636</td>\n",
       "      <td>0.043452</td>\n",
       "      <td>0.178295</td>\n",
       "      <td>1.000000</td>\n",
       "      <td>0.105105</td>\n",
       "      <td>0.0</td>\n",
       "      <td>0.333333</td>\n",
       "      <td>0.8</td>\n",
       "      <td>0.0</td>\n",
       "    </tr>\n",
       "    <tr>\n",
       "      <th>2</th>\n",
       "      <td>1</td>\n",
       "      <td>0.049060</td>\n",
       "      <td>0.531915</td>\n",
       "      <td>0.6</td>\n",
       "      <td>0.534884</td>\n",
       "      <td>0.6</td>\n",
       "      <td>0.166667</td>\n",
       "      <td>0.000000</td>\n",
       "      <td>0.059850</td>\n",
       "      <td>0.000000</td>\n",
       "      <td>0.098948</td>\n",
       "      <td>0.763615</td>\n",
       "      <td>0.076611</td>\n",
       "      <td>0.077519</td>\n",
       "      <td>0.628164</td>\n",
       "      <td>0.000000</td>\n",
       "      <td>1.0</td>\n",
       "      <td>0.333333</td>\n",
       "      <td>0.6</td>\n",
       "      <td>0.0</td>\n",
       "    </tr>\n",
       "    <tr>\n",
       "      <th>3</th>\n",
       "      <td>1</td>\n",
       "      <td>0.514130</td>\n",
       "      <td>0.297872</td>\n",
       "      <td>0.8</td>\n",
       "      <td>0.488372</td>\n",
       "      <td>0.4</td>\n",
       "      <td>0.666667</td>\n",
       "      <td>0.166667</td>\n",
       "      <td>0.056676</td>\n",
       "      <td>1.000000</td>\n",
       "      <td>0.022977</td>\n",
       "      <td>0.413600</td>\n",
       "      <td>0.036775</td>\n",
       "      <td>0.077519</td>\n",
       "      <td>0.628164</td>\n",
       "      <td>0.760761</td>\n",
       "      <td>0.0</td>\n",
       "      <td>0.500000</td>\n",
       "      <td>0.8</td>\n",
       "      <td>0.0</td>\n",
       "    </tr>\n",
       "    <tr>\n",
       "      <th>4</th>\n",
       "      <td>1</td>\n",
       "      <td>0.008517</td>\n",
       "      <td>0.297872</td>\n",
       "      <td>0.6</td>\n",
       "      <td>0.186047</td>\n",
       "      <td>0.8</td>\n",
       "      <td>0.166667</td>\n",
       "      <td>0.000000</td>\n",
       "      <td>0.099091</td>\n",
       "      <td>0.000000</td>\n",
       "      <td>0.136557</td>\n",
       "      <td>0.640271</td>\n",
       "      <td>0.017025</td>\n",
       "      <td>0.139535</td>\n",
       "      <td>0.673129</td>\n",
       "      <td>0.000000</td>\n",
       "      <td>1.0</td>\n",
       "      <td>0.833333</td>\n",
       "      <td>0.4</td>\n",
       "      <td>0.0</td>\n",
       "    </tr>\n",
       "  </tbody>\n",
       "</table>\n",
       "</div>"
      ],
      "text/plain": [
       "   Attrition_Flag  CLIENTNUM  Customer_Age  Dependent_count  Months_on_book  \\\n",
       "0               1   0.504929      0.404255              0.6        0.604651   \n",
       "1               1   0.920398      0.489362              1.0        0.720930   \n",
       "2               1   0.049060      0.531915              0.6        0.534884   \n",
       "3               1   0.514130      0.297872              0.8        0.488372   \n",
       "4               1   0.008517      0.297872              0.6        0.186047   \n",
       "\n",
       "   Total_Relationship_Count  Months_Inactive_12_mon  Contacts_Count_12_mon  \\\n",
       "0                       0.8                0.166667               0.500000   \n",
       "1                       1.0                0.166667               0.333333   \n",
       "2                       0.6                0.166667               0.000000   \n",
       "3                       0.4                0.666667               0.166667   \n",
       "4                       0.8                0.166667               0.000000   \n",
       "\n",
       "   Credit_Limit  Total_Revolving_Bal  Avg_Open_To_Buy  Total_Amt_Chng_Q4_Q1  \\\n",
       "0      0.340190             0.308701         0.345116              0.392994   \n",
       "1      0.206112             0.343266         0.214093              0.453636   \n",
       "2      0.059850             0.000000         0.098948              0.763615   \n",
       "3      0.056676             1.000000         0.022977              0.413600   \n",
       "4      0.099091             0.000000         0.136557              0.640271   \n",
       "\n",
       "   Total_Trans_Amt  Total_Trans_Ct  Total_Ct_Chng_Q4_Q1  \\\n",
       "0         0.035273        0.248062             0.437534   \n",
       "1         0.043452        0.178295             1.000000   \n",
       "2         0.076611        0.077519             0.628164   \n",
       "3         0.036775        0.077519             0.628164   \n",
       "4         0.017025        0.139535             0.673129   \n",
       "\n",
       "   Avg_Utilization_Ratio  sex    Degree  Income  Category  \n",
       "0               0.061061  1.0  0.500000     0.4       0.0  \n",
       "1               0.105105  0.0  0.333333     0.8       0.0  \n",
       "2               0.000000  1.0  0.333333     0.6       0.0  \n",
       "3               0.760761  0.0  0.500000     0.8       0.0  \n",
       "4               0.000000  1.0  0.833333     0.4       0.0  "
      ]
     },
     "execution_count": 7,
     "metadata": {},
     "output_type": "execute_result"
    }
   ],
   "source": [
    "df2.head()"
   ]
  },
  {
   "cell_type": "markdown",
   "metadata": {},
   "source": [
    "# feature selection"
   ]
  },
  {
   "cell_type": "code",
   "execution_count": 8,
   "metadata": {},
   "outputs": [],
   "source": [
    "from sklearn.tree import ExtraTreeClassifier"
   ]
  },
  {
   "cell_type": "code",
   "execution_count": 9,
   "metadata": {},
   "outputs": [],
   "source": [
    "x=df.drop('Attrition_Flag',axis=1)\n",
    "y=df['Attrition_Flag']"
   ]
  },
  {
   "cell_type": "code",
   "execution_count": 10,
   "metadata": {},
   "outputs": [
    {
     "data": {
      "text/html": [
       "<div>\n",
       "<style scoped>\n",
       "    .dataframe tbody tr th:only-of-type {\n",
       "        vertical-align: middle;\n",
       "    }\n",
       "\n",
       "    .dataframe tbody tr th {\n",
       "        vertical-align: top;\n",
       "    }\n",
       "\n",
       "    .dataframe thead th {\n",
       "        text-align: right;\n",
       "    }\n",
       "</style>\n",
       "<table border=\"1\" class=\"dataframe\">\n",
       "  <thead>\n",
       "    <tr style=\"text-align: right;\">\n",
       "      <th></th>\n",
       "      <th>CLIENTNUM</th>\n",
       "      <th>Customer_Age</th>\n",
       "      <th>Dependent_count</th>\n",
       "      <th>Months_on_book</th>\n",
       "      <th>Total_Relationship_Count</th>\n",
       "      <th>Months_Inactive_12_mon</th>\n",
       "      <th>Contacts_Count_12_mon</th>\n",
       "      <th>Credit_Limit</th>\n",
       "      <th>Total_Revolving_Bal</th>\n",
       "      <th>Avg_Open_To_Buy</th>\n",
       "      <th>Total_Amt_Chng_Q4_Q1</th>\n",
       "      <th>Total_Trans_Amt</th>\n",
       "      <th>Total_Trans_Ct</th>\n",
       "      <th>Total_Ct_Chng_Q4_Q1</th>\n",
       "      <th>Avg_Utilization_Ratio</th>\n",
       "      <th>sex</th>\n",
       "      <th>Degree</th>\n",
       "      <th>Income</th>\n",
       "      <th>Category</th>\n",
       "    </tr>\n",
       "  </thead>\n",
       "  <tbody>\n",
       "    <tr>\n",
       "      <th>0</th>\n",
       "      <td>768805383</td>\n",
       "      <td>45</td>\n",
       "      <td>3</td>\n",
       "      <td>39</td>\n",
       "      <td>5</td>\n",
       "      <td>1</td>\n",
       "      <td>3</td>\n",
       "      <td>12691.0</td>\n",
       "      <td>777</td>\n",
       "      <td>11914.0</td>\n",
       "      <td>1.335</td>\n",
       "      <td>1144</td>\n",
       "      <td>42</td>\n",
       "      <td>1.625</td>\n",
       "      <td>0.061</td>\n",
       "      <td>1</td>\n",
       "      <td>3</td>\n",
       "      <td>2</td>\n",
       "      <td>0</td>\n",
       "    </tr>\n",
       "    <tr>\n",
       "      <th>1</th>\n",
       "      <td>818770008</td>\n",
       "      <td>49</td>\n",
       "      <td>5</td>\n",
       "      <td>44</td>\n",
       "      <td>6</td>\n",
       "      <td>1</td>\n",
       "      <td>2</td>\n",
       "      <td>8256.0</td>\n",
       "      <td>864</td>\n",
       "      <td>7392.0</td>\n",
       "      <td>1.541</td>\n",
       "      <td>1291</td>\n",
       "      <td>33</td>\n",
       "      <td>3.714</td>\n",
       "      <td>0.105</td>\n",
       "      <td>0</td>\n",
       "      <td>2</td>\n",
       "      <td>4</td>\n",
       "      <td>0</td>\n",
       "    </tr>\n",
       "    <tr>\n",
       "      <th>2</th>\n",
       "      <td>713982108</td>\n",
       "      <td>51</td>\n",
       "      <td>3</td>\n",
       "      <td>36</td>\n",
       "      <td>4</td>\n",
       "      <td>1</td>\n",
       "      <td>0</td>\n",
       "      <td>3418.0</td>\n",
       "      <td>0</td>\n",
       "      <td>3418.0</td>\n",
       "      <td>2.594</td>\n",
       "      <td>1887</td>\n",
       "      <td>20</td>\n",
       "      <td>2.333</td>\n",
       "      <td>0.000</td>\n",
       "      <td>1</td>\n",
       "      <td>2</td>\n",
       "      <td>3</td>\n",
       "      <td>0</td>\n",
       "    </tr>\n",
       "    <tr>\n",
       "      <th>3</th>\n",
       "      <td>769911858</td>\n",
       "      <td>40</td>\n",
       "      <td>4</td>\n",
       "      <td>34</td>\n",
       "      <td>3</td>\n",
       "      <td>4</td>\n",
       "      <td>1</td>\n",
       "      <td>3313.0</td>\n",
       "      <td>2517</td>\n",
       "      <td>796.0</td>\n",
       "      <td>1.405</td>\n",
       "      <td>1171</td>\n",
       "      <td>20</td>\n",
       "      <td>2.333</td>\n",
       "      <td>0.760</td>\n",
       "      <td>0</td>\n",
       "      <td>3</td>\n",
       "      <td>4</td>\n",
       "      <td>0</td>\n",
       "    </tr>\n",
       "    <tr>\n",
       "      <th>4</th>\n",
       "      <td>709106358</td>\n",
       "      <td>40</td>\n",
       "      <td>3</td>\n",
       "      <td>21</td>\n",
       "      <td>5</td>\n",
       "      <td>1</td>\n",
       "      <td>0</td>\n",
       "      <td>4716.0</td>\n",
       "      <td>0</td>\n",
       "      <td>4716.0</td>\n",
       "      <td>2.175</td>\n",
       "      <td>816</td>\n",
       "      <td>28</td>\n",
       "      <td>2.500</td>\n",
       "      <td>0.000</td>\n",
       "      <td>1</td>\n",
       "      <td>5</td>\n",
       "      <td>2</td>\n",
       "      <td>0</td>\n",
       "    </tr>\n",
       "  </tbody>\n",
       "</table>\n",
       "</div>"
      ],
      "text/plain": [
       "   CLIENTNUM  Customer_Age  Dependent_count  Months_on_book  \\\n",
       "0  768805383            45                3              39   \n",
       "1  818770008            49                5              44   \n",
       "2  713982108            51                3              36   \n",
       "3  769911858            40                4              34   \n",
       "4  709106358            40                3              21   \n",
       "\n",
       "   Total_Relationship_Count  Months_Inactive_12_mon  Contacts_Count_12_mon  \\\n",
       "0                         5                       1                      3   \n",
       "1                         6                       1                      2   \n",
       "2                         4                       1                      0   \n",
       "3                         3                       4                      1   \n",
       "4                         5                       1                      0   \n",
       "\n",
       "   Credit_Limit  Total_Revolving_Bal  Avg_Open_To_Buy  Total_Amt_Chng_Q4_Q1  \\\n",
       "0       12691.0                  777          11914.0                 1.335   \n",
       "1        8256.0                  864           7392.0                 1.541   \n",
       "2        3418.0                    0           3418.0                 2.594   \n",
       "3        3313.0                 2517            796.0                 1.405   \n",
       "4        4716.0                    0           4716.0                 2.175   \n",
       "\n",
       "   Total_Trans_Amt  Total_Trans_Ct  Total_Ct_Chng_Q4_Q1  \\\n",
       "0             1144              42                1.625   \n",
       "1             1291              33                3.714   \n",
       "2             1887              20                2.333   \n",
       "3             1171              20                2.333   \n",
       "4              816              28                2.500   \n",
       "\n",
       "   Avg_Utilization_Ratio  sex  Degree  Income  Category  \n",
       "0                  0.061    1       3       2         0  \n",
       "1                  0.105    0       2       4         0  \n",
       "2                  0.000    1       2       3         0  \n",
       "3                  0.760    0       3       4         0  \n",
       "4                  0.000    1       5       2         0  "
      ]
     },
     "execution_count": 10,
     "metadata": {},
     "output_type": "execute_result"
    }
   ],
   "source": [
    "x.head()"
   ]
  },
  {
   "cell_type": "code",
   "execution_count": 11,
   "metadata": {},
   "outputs": [
    {
     "data": {
      "text/plain": [
       "ExtraTreeClassifier()"
      ]
     },
     "execution_count": 11,
     "metadata": {},
     "output_type": "execute_result"
    }
   ],
   "source": [
    "reg=ExtraTreeClassifier()\n",
    "reg.fit(x,y)"
   ]
  },
  {
   "cell_type": "code",
   "execution_count": 12,
   "metadata": {},
   "outputs": [
    {
     "name": "stdout",
     "output_type": "stream",
     "text": [
      "[0.03269477 0.02631922 0.02500472 0.03240672 0.07823734 0.05005512\n",
      " 0.03853963 0.02854483 0.11537572 0.03373799 0.03926177 0.13618738\n",
      " 0.18015962 0.07539932 0.04442276 0.01592672 0.02011591 0.02176775\n",
      " 0.0058427 ]\n"
     ]
    }
   ],
   "source": [
    "print(reg.feature_importances_)"
   ]
  },
  {
   "cell_type": "code",
   "execution_count": 13,
   "metadata": {},
   "outputs": [
    {
     "data": {
      "image/png": "[encoded data removed]",
      "text/plain": [
       "<Figure size 432x288 with 1 Axes>"
      ]
     },
     "metadata": {
      "needs_background": "light"
     },
     "output_type": "display_data"
    }
   ],
   "source": [
    "import matplotlib.pyplot as plt\n",
    "rk=pd.Series(reg.feature_importances_,index=x.columns)\n",
    "rk.nlargest(10).plot(kind='barh')\n",
    "plt.show()"
   ]
  },
  {
   "cell_type": "code",
   "execution_count": 14,
   "metadata": {},
   "outputs": [],
   "source": [
    "d=['Credit_Limit','Customer_Age','Months_Inactive_12_mon','Contacts_Count_12_mon','Total_Amt_Chng_Q4_Q1','Total_Ct_Chng_Q4_Q1','Total_Relationship_Count','Total_Trans_Ct','Total_Revolving_Bal','Total_Trans_Amt']"
   ]
  },
  {
   "cell_type": "code",
   "execution_count": 15,
   "metadata": {},
   "outputs": [],
   "source": [
    "x1=df[d]"
   ]
  },
  {
   "cell_type": "code",
   "execution_count": 16,
   "metadata": {},
   "outputs": [
    {
     "data": {
      "text/html": [
       "<div>\n",
       "<style scoped>\n",
       "    .dataframe tbody tr th:only-of-type {\n",
       "        vertical-align: middle;\n",
       "    }\n",
       "\n",
       "    .dataframe tbody tr th {\n",
       "        vertical-align: top;\n",
       "    }\n",
       "\n",
       "    .dataframe thead th {\n",
       "        text-align: right;\n",
       "    }\n",
       "</style>\n",
       "<table border=\"1\" class=\"dataframe\">\n",
       "  <thead>\n",
       "    <tr style=\"text-align: right;\">\n",
       "      <th></th>\n",
       "      <th>Credit_Limit</th>\n",
       "      <th>Customer_Age</th>\n",
       "      <th>Months_Inactive_12_mon</th>\n",
       "      <th>Contacts_Count_12_mon</th>\n",
       "      <th>Total_Amt_Chng_Q4_Q1</th>\n",
       "      <th>Total_Ct_Chng_Q4_Q1</th>\n",
       "      <th>Total_Relationship_Count</th>\n",
       "      <th>Total_Trans_Ct</th>\n",
       "      <th>Total_Revolving_Bal</th>\n",
       "      <th>Total_Trans_Amt</th>\n",
       "    </tr>\n",
       "  </thead>\n",
       "  <tbody>\n",
       "    <tr>\n",
       "      <th>0</th>\n",
       "      <td>12691.0</td>\n",
       "      <td>45</td>\n",
       "      <td>1</td>\n",
       "      <td>3</td>\n",
       "      <td>1.335</td>\n",
       "      <td>1.625</td>\n",
       "      <td>5</td>\n",
       "      <td>42</td>\n",
       "      <td>777</td>\n",
       "      <td>1144</td>\n",
       "    </tr>\n",
       "    <tr>\n",
       "      <th>1</th>\n",
       "      <td>8256.0</td>\n",
       "      <td>49</td>\n",
       "      <td>1</td>\n",
       "      <td>2</td>\n",
       "      <td>1.541</td>\n",
       "      <td>3.714</td>\n",
       "      <td>6</td>\n",
       "      <td>33</td>\n",
       "      <td>864</td>\n",
       "      <td>1291</td>\n",
       "    </tr>\n",
       "    <tr>\n",
       "      <th>2</th>\n",
       "      <td>3418.0</td>\n",
       "      <td>51</td>\n",
       "      <td>1</td>\n",
       "      <td>0</td>\n",
       "      <td>2.594</td>\n",
       "      <td>2.333</td>\n",
       "      <td>4</td>\n",
       "      <td>20</td>\n",
       "      <td>0</td>\n",
       "      <td>1887</td>\n",
       "    </tr>\n",
       "    <tr>\n",
       "      <th>3</th>\n",
       "      <td>3313.0</td>\n",
       "      <td>40</td>\n",
       "      <td>4</td>\n",
       "      <td>1</td>\n",
       "      <td>1.405</td>\n",
       "      <td>2.333</td>\n",
       "      <td>3</td>\n",
       "      <td>20</td>\n",
       "      <td>2517</td>\n",
       "      <td>1171</td>\n",
       "    </tr>\n",
       "    <tr>\n",
       "      <th>4</th>\n",
       "      <td>4716.0</td>\n",
       "      <td>40</td>\n",
       "      <td>1</td>\n",
       "      <td>0</td>\n",
       "      <td>2.175</td>\n",
       "      <td>2.500</td>\n",
       "      <td>5</td>\n",
       "      <td>28</td>\n",
       "      <td>0</td>\n",
       "      <td>816</td>\n",
       "    </tr>\n",
       "  </tbody>\n",
       "</table>\n",
       "</div>"
      ],
      "text/plain": [
       "   Credit_Limit  Customer_Age  Months_Inactive_12_mon  Contacts_Count_12_mon  \\\n",
       "0       12691.0            45                       1                      3   \n",
       "1        8256.0            49                       1                      2   \n",
       "2        3418.0            51                       1                      0   \n",
       "3        3313.0            40                       4                      1   \n",
       "4        4716.0            40                       1                      0   \n",
       "\n",
       "   Total_Amt_Chng_Q4_Q1  Total_Ct_Chng_Q4_Q1  Total_Relationship_Count  \\\n",
       "0                 1.335                1.625                         5   \n",
       "1                 1.541                3.714                         6   \n",
       "2                 2.594                2.333                         4   \n",
       "3                 1.405                2.333                         3   \n",
       "4                 2.175                2.500                         5   \n",
       "\n",
       "   Total_Trans_Ct  Total_Revolving_Bal  Total_Trans_Amt  \n",
       "0              42                  777             1144  \n",
       "1              33                  864             1291  \n",
       "2              20                    0             1887  \n",
       "3              20                 2517             1171  \n",
       "4              28                    0              816  "
      ]
     },
     "execution_count": 16,
     "metadata": {},
     "output_type": "execute_result"
    }
   ],
   "source": [
    "x1.head()"
   ]
  },
  {
   "cell_type": "code",
   "execution_count": 17,
   "metadata": {},
   "outputs": [],
   "source": [
    "import seaborn as sns"
   ]
  },
  {
   "cell_type": "code",
   "execution_count": 18,
   "metadata": {},
   "outputs": [
    {
     "data": {
      "text/plain": [
       "<matplotlib.axes._subplots.AxesSubplot at 0x23d2dc16b80>"
      ]
     },
     "execution_count": 18,
     "metadata": {},
     "output_type": "execute_result"
    },
    {
     "data": {
      "image/png": "[encoded data removed]",
      "text/plain": [
       "<Figure size 432x288 with 2 Axes>"
      ]
     },
     "metadata": {
      "needs_background": "light"
     },
     "output_type": "display_data"
    }
   ],
   "source": [
    "sns.heatmap(x1.corr(),annot=True)"
   ]
  },
  {
   "cell_type": "code",
   "execution_count": 19,
   "metadata": {},
   "outputs": [
    {
     "data": {
      "text/plain": [
       "{'Total_Trans_Ct'}"
      ]
     },
     "execution_count": 19,
     "metadata": {},
     "output_type": "execute_result"
    }
   ],
   "source": [
    "threshould=0.8\n",
    "def corr(df,threshould):\n",
    "    col_corr=set()\n",
    "    col_matrix=df.corr()\n",
    "    for i in range(len(col_matrix.columns)):\n",
    "        for j in range(i):\n",
    "            if abs(col_matrix.iloc[i,j])>threshould:\n",
    "                colname=col_matrix.columns[j]\n",
    "                col_corr.add(colname)\n",
    "    return col_corr\n",
    "corr(x1,threshould)"
   ]
  },
  {
   "cell_type": "code",
   "execution_count": 20,
   "metadata": {},
   "outputs": [
    {
     "name": "stderr",
     "output_type": "stream",
     "text": [
      "C:\\Users\\Lenovo\\anaconda3\\lib\\site-packages\\pandas\\core\\frame.py:3990: SettingWithCopyWarning: \n",
      "A value is trying to be set on a copy of a slice from a DataFrame\n",
      "\n",
      "See the caveats in the documentation: https://pandas.pydata.org/pandas-docs/stable/user_guide/indexing.html#returning-a-view-versus-a-copy\n",
      "  return super().drop(\n"
     ]
    }
   ],
   "source": [
    "x1.drop('Total_Trans_Ct',axis=1,inplace=True)"
   ]
  },
  {
   "cell_type": "code",
   "execution_count": 21,
   "metadata": {},
   "outputs": [
    {
     "data": {
      "text/html": [
       "<div>\n",
       "<style scoped>\n",
       "    .dataframe tbody tr th:only-of-type {\n",
       "        vertical-align: middle;\n",
       "    }\n",
       "\n",
       "    .dataframe tbody tr th {\n",
       "        vertical-align: top;\n",
       "    }\n",
       "\n",
       "    .dataframe thead th {\n",
       "        text-align: right;\n",
       "    }\n",
       "</style>\n",
       "<table border=\"1\" class=\"dataframe\">\n",
       "  <thead>\n",
       "    <tr style=\"text-align: right;\">\n",
       "      <th></th>\n",
       "      <th>Credit_Limit</th>\n",
       "      <th>Customer_Age</th>\n",
       "      <th>Months_Inactive_12_mon</th>\n",
       "      <th>Contacts_Count_12_mon</th>\n",
       "      <th>Total_Amt_Chng_Q4_Q1</th>\n",
       "      <th>Total_Ct_Chng_Q4_Q1</th>\n",
       "      <th>Total_Relationship_Count</th>\n",
       "      <th>Total_Revolving_Bal</th>\n",
       "      <th>Total_Trans_Amt</th>\n",
       "    </tr>\n",
       "  </thead>\n",
       "  <tbody>\n",
       "    <tr>\n",
       "      <th>0</th>\n",
       "      <td>12691.0</td>\n",
       "      <td>45</td>\n",
       "      <td>1</td>\n",
       "      <td>3</td>\n",
       "      <td>1.335</td>\n",
       "      <td>1.625</td>\n",
       "      <td>5</td>\n",
       "      <td>777</td>\n",
       "      <td>1144</td>\n",
       "    </tr>\n",
       "    <tr>\n",
       "      <th>1</th>\n",
       "      <td>8256.0</td>\n",
       "      <td>49</td>\n",
       "      <td>1</td>\n",
       "      <td>2</td>\n",
       "      <td>1.541</td>\n",
       "      <td>3.714</td>\n",
       "      <td>6</td>\n",
       "      <td>864</td>\n",
       "      <td>1291</td>\n",
       "    </tr>\n",
       "    <tr>\n",
       "      <th>2</th>\n",
       "      <td>3418.0</td>\n",
       "      <td>51</td>\n",
       "      <td>1</td>\n",
       "      <td>0</td>\n",
       "      <td>2.594</td>\n",
       "      <td>2.333</td>\n",
       "      <td>4</td>\n",
       "      <td>0</td>\n",
       "      <td>1887</td>\n",
       "    </tr>\n",
       "    <tr>\n",
       "      <th>3</th>\n",
       "      <td>3313.0</td>\n",
       "      <td>40</td>\n",
       "      <td>4</td>\n",
       "      <td>1</td>\n",
       "      <td>1.405</td>\n",
       "      <td>2.333</td>\n",
       "      <td>3</td>\n",
       "      <td>2517</td>\n",
       "      <td>1171</td>\n",
       "    </tr>\n",
       "    <tr>\n",
       "      <th>4</th>\n",
       "      <td>4716.0</td>\n",
       "      <td>40</td>\n",
       "      <td>1</td>\n",
       "      <td>0</td>\n",
       "      <td>2.175</td>\n",
       "      <td>2.500</td>\n",
       "      <td>5</td>\n",
       "      <td>0</td>\n",
       "      <td>816</td>\n",
       "    </tr>\n",
       "  </tbody>\n",
       "</table>\n",
       "</div>"
      ],
      "text/plain": [
       "   Credit_Limit  Customer_Age  Months_Inactive_12_mon  Contacts_Count_12_mon  \\\n",
       "0       12691.0            45                       1                      3   \n",
       "1        8256.0            49                       1                      2   \n",
       "2        3418.0            51                       1                      0   \n",
       "3        3313.0            40                       4                      1   \n",
       "4        4716.0            40                       1                      0   \n",
       "\n",
       "   Total_Amt_Chng_Q4_Q1  Total_Ct_Chng_Q4_Q1  Total_Relationship_Count  \\\n",
       "0                 1.335                1.625                         5   \n",
       "1                 1.541                3.714                         6   \n",
       "2                 2.594                2.333                         4   \n",
       "3                 1.405                2.333                         3   \n",
       "4                 2.175                2.500                         5   \n",
       "\n",
       "   Total_Revolving_Bal  Total_Trans_Amt  \n",
       "0                  777             1144  \n",
       "1                  864             1291  \n",
       "2                    0             1887  \n",
       "3                 2517             1171  \n",
       "4                    0              816  "
      ]
     },
     "execution_count": 21,
     "metadata": {},
     "output_type": "execute_result"
    }
   ],
   "source": [
    "x1.head()"
   ]
  },
  {
   "cell_type": "code",
   "execution_count": 22,
   "metadata": {},
   "outputs": [],
   "source": [
    "from sklearn.model_selection import train_test_split"
   ]
  },
  {
   "cell_type": "code",
   "execution_count": 23,
   "metadata": {},
   "outputs": [],
   "source": [
    "x_train,x_test,y_train,y_test=train_test_split(x1,y,test_size=0.3,random_state=42)"
   ]
  },
  {
   "cell_type": "code",
   "execution_count": 24,
   "metadata": {},
   "outputs": [
    {
     "data": {
      "text/plain": [
       "(7088, 9)"
      ]
     },
     "execution_count": 24,
     "metadata": {},
     "output_type": "execute_result"
    }
   ],
   "source": [
    "x_train.shape"
   ]
  },
  {
   "cell_type": "code",
   "execution_count": 25,
   "metadata": {},
   "outputs": [],
   "source": [
    "from sklearn.model_selection import GridSearchCV\n",
    "from sklearn.pipeline import Pipeline\n",
    "from sklearn.tree import DecisionTreeClassifier\n",
    "from sklearn.ensemble import RandomForestClassifier\n",
    "from sklearn.ensemble import AdaBoostClassifier\n",
    "from sklearn.ensemble import GradientBoostingClassifier\n",
    "from xgboost import XGBClassifier\n",
    "import numpy as np"
   ]
  },
  {
   "cell_type": "code",
   "execution_count": 26,
   "metadata": {},
   "outputs": [],
   "source": [
    "pipe=Pipeline([('classifier',RandomForestClassifier())])"
   ]
  },
  {
   "cell_type": "code",
   "execution_count": 27,
   "metadata": {},
   "outputs": [],
   "source": [
    "grid_param=[\n",
    "            {'classifier':[DecisionTreeClassifier()],\n",
    "             'classifier__max_features':['log2','sqrt','auto'],\n",
    "             'classifier__max_depth':[6,4,20,10,60,100,40,None],\n",
    "             'classifier__max_leaf_nodes':[10,6,50,25,80,40,30,100,None]\n",
    "            }]"
   ]
  },
  {
   "cell_type": "code",
   "execution_count": 28,
   "metadata": {},
   "outputs": [],
   "source": [
    "grid=GridSearchCV(pipe,grid_param,cv=5,n_jobs=-1)"
   ]
  },
  {
   "cell_type": "code",
   "execution_count": 29,
   "metadata": {},
   "outputs": [],
   "source": [
    "best_model=grid.fit(x_train,y_train)"
   ]
  },
  {
   "cell_type": "code",
   "execution_count": 32,
   "metadata": {},
   "outputs": [
    {
     "data": {
      "text/plain": [
       "0.945823927765237"
      ]
     },
     "execution_count": 32,
     "metadata": {},
     "output_type": "execute_result"
    }
   ],
   "source": [
    "best_model.score(x_train,y_train)"
   ]
  },
  {
   "cell_type": "code",
   "execution_count": 33,
   "metadata": {},
   "outputs": [],
   "source": [
    "rf=RandomForestClassifier()"
   ]
  },
  {
   "cell_type": "raw",
   "metadata": {},
   "source": [
    "rf.fit(x_train,y_train)"
   ]
  },
  {
   "cell_type": "code",
   "execution_count": 36,
   "metadata": {},
   "outputs": [],
   "source": [
    "param={'n_estimators':[100,400,500,600,1000],'max_features':['log2','auto','sqrt'],'max_depth':[6,10,15,20,25,60,None]}\n",
    "RF=GridSearchCV(rf,param,cv=5,n_jobs=-1)\n",
    "RF.fit(x_train,y_train)\n",
    "pred_r=RF.predict(x_test)"
   ]
  },
  {
   "cell_type": "code",
   "execution_count": 37,
   "metadata": {},
   "outputs": [],
   "source": [
    "from sklearn.metrics import accuracy_score,confusion_matrix,classification_report"
   ]
  },
  {
   "cell_type": "code",
   "execution_count": 38,
   "metadata": {},
   "outputs": [
    {
     "name": "stdout",
     "output_type": "stream",
     "text": [
      "0.9519578808818691\n",
      "              precision    recall  f1-score   support\n",
      "\n",
      "           0       0.91      0.79      0.84       496\n",
      "           1       0.96      0.98      0.97      2543\n",
      "\n",
      "    accuracy                           0.95      3039\n",
      "   macro avg       0.93      0.89      0.91      3039\n",
      "weighted avg       0.95      0.95      0.95      3039\n",
      "\n",
      "[[ 390  106]\n",
      " [  40 2503]]\n"
     ]
    }
   ],
   "source": [
    "print(accuracy_score(y_test,pred_r))\n",
    "print(classification_report(y_test,pred_r))\n",
    "print(confusion_matrix(y_test,pred_r))"
   ]
  },
  {
   "cell_type": "code",
   "execution_count": 39,
   "metadata": {},
   "outputs": [
    {
     "data": {
      "text/plain": [
       "1    5957\n",
       "0    1131\n",
       "Name: Attrition_Flag, dtype: int64"
      ]
     },
     "execution_count": 39,
     "metadata": {},
     "output_type": "execute_result"
    }
   ],
   "source": [
    "y_train.value_counts()"
   ]
  },
  {
   "cell_type": "code",
   "execution_count": 40,
   "metadata": {},
   "outputs": [],
   "source": [
    "ad=AdaBoostClassifier()\n",
    "param={'n_estimators':[100,200,400,600,800,1000],'learning_rate':[0.01,0.06,0.08,0.8,0.6,0.4,1.0]}\n",
    "AD=GridSearchCV(ad,param,cv=5,n_jobs=-1)\n",
    "AD.fit(x_train,y_train)\n",
    "pred_a=AD.predict(x_test)"
   ]
  },
  {
   "cell_type": "code",
   "execution_count": 41,
   "metadata": {},
   "outputs": [
    {
     "name": "stdout",
     "output_type": "stream",
     "text": [
      "0.9282658769332017\n",
      "              precision    recall  f1-score   support\n",
      "\n",
      "           0       0.85      0.69      0.76       496\n",
      "           1       0.94      0.98      0.96      2543\n",
      "\n",
      "    accuracy                           0.93      3039\n",
      "   macro avg       0.89      0.83      0.86      3039\n",
      "weighted avg       0.93      0.93      0.93      3039\n",
      "\n",
      "[[ 340  156]\n",
      " [  62 2481]]\n"
     ]
    }
   ],
   "source": [
    "print(accuracy_score(y_test,pred_a))\n",
    "print(classification_report(y_test,pred_a))\n",
    "print(confusion_matrix(y_test,pred_a))"
   ]
  },
  {
   "cell_type": "code",
   "execution_count": 43,
   "metadata": {},
   "outputs": [],
   "source": [
    "gb=GradientBoostingClassifier()\n",
    "param={'n_estimators':[100,200,400,500,800,1000],'learning_rate':[0.01,0.06,0.08,0.8,0.6,0.4,1.0],'max_features':['log2','auto','sqrt']}\n",
    "GB=GridSearchCV(gb,param,cv=5,n_jobs=-1)\n",
    "GB.fit(x_train,y_train)\n",
    "pred_g=GB.predict(x_test)"
   ]
  },
  {
   "cell_type": "code",
   "execution_count": 44,
   "metadata": {},
   "outputs": [
    {
     "name": "stdout",
     "output_type": "stream",
     "text": [
      "0.9555774925962488\n",
      "              precision    recall  f1-score   support\n",
      "\n",
      "           0       0.88      0.84      0.86       496\n",
      "           1       0.97      0.98      0.97      2543\n",
      "\n",
      "    accuracy                           0.96      3039\n",
      "   macro avg       0.93      0.91      0.92      3039\n",
      "weighted avg       0.95      0.96      0.96      3039\n",
      "\n",
      "[[ 416   80]\n",
      " [  55 2488]]\n"
     ]
    }
   ],
   "source": [
    "print(accuracy_score(y_test,pred_g))\n",
    "print(classification_report(y_test,pred_g))\n",
    "print(confusion_matrix(y_test,pred_g))"
   ]
  },
  {
   "cell_type": "code",
   "execution_count": 45,
   "metadata": {},
   "outputs": [],
   "source": [
    "xg=XGBClassifier()\n",
    "param={'n_estimators':[100,200,500,800,1000],'learning_rate':[0.01,0.02,0.06,0.4,0.6,0.8]}\n",
    "XG=GridSearchCV(xg,param,cv=5,n_jobs=-1)\n",
    "XG.fit(x_train,y_train)\n",
    "pred_x=XG.predict(x_test)"
   ]
  },
  {
   "cell_type": "code",
   "execution_count": 46,
   "metadata": {},
   "outputs": [
    {
     "name": "stdout",
     "output_type": "stream",
     "text": [
      "0.9529450477130635\n",
      "              precision    recall  f1-score   support\n",
      "\n",
      "           0       0.87      0.83      0.85       496\n",
      "           1       0.97      0.98      0.97      2543\n",
      "\n",
      "    accuracy                           0.95      3039\n",
      "   macro avg       0.92      0.90      0.91      3039\n",
      "weighted avg       0.95      0.95      0.95      3039\n",
      "\n",
      "[[ 412   84]\n",
      " [  59 2484]]\n"
     ]
    }
   ],
   "source": [
    "print(accuracy_score(y_test,pred_x))\n",
    "print(classification_report(y_test,pred_x))\n",
    "print(confusion_matrix(y_test,pred_x))"
   ]
  },
  {
   "cell_type": "code",
   "execution_count": 47,
   "metadata": {},
   "outputs": [],
   "source": [
    "from sklearn.neighbors import KNeighborsClassifier"
   ]
  },
  {
   "cell_type": "code",
   "execution_count": 50,
   "metadata": {},
   "outputs": [
    {
     "data": {
      "image/png": "[encoded data removed]",
      "text/plain": [
       "<Figure size 720x432 with 1 Axes>"
      ]
     },
     "metadata": {
      "needs_background": "light"
     },
     "output_type": "display_data"
    }
   ],
   "source": [
    "error_rate=[]\n",
    "for i in range(1,40):\n",
    "    k=KNeighborsClassifier(n_neighbors=i)\n",
    "    k.fit(x_train,y_train)\n",
    "    pred_k=k.predict(x_test)\n",
    "    error_rate.append(np.mean(pred_k!=y_test))\n",
    "import matplotlib.pyplot as plt\n",
    "plt.figure(figsize=(10,6))\n",
    "plt.plot(range(1,40),error_rate,linestyle='dashed',marker='*',color='red',markerfacecolor='blue',markersize=10)\n",
    "plt.title('error v/s k')\n",
    "plt.xlabel('k value')\n",
    "plt.ylabel('error_rate')\n",
    "plt.show()    "
   ]
  },
  {
   "cell_type": "code",
   "execution_count": 53,
   "metadata": {},
   "outputs": [],
   "source": [
    "k=KNeighborsClassifier(n_neighbors=5)\n",
    "k.fit(x_train,y_train)\n",
    "pred_k=k.predict(x_test)"
   ]
  },
  {
   "cell_type": "code",
   "execution_count": 54,
   "metadata": {},
   "outputs": [
    {
     "name": "stdout",
     "output_type": "stream",
     "text": [
      "0.8835143139190523\n",
      "              precision    recall  f1-score   support\n",
      "\n",
      "           0       0.68      0.53      0.60       496\n",
      "           1       0.91      0.95      0.93      2543\n",
      "\n",
      "    accuracy                           0.88      3039\n",
      "   macro avg       0.80      0.74      0.77      3039\n",
      "weighted avg       0.88      0.88      0.88      3039\n",
      "\n",
      "[[ 265  231]\n",
      " [ 123 2420]]\n"
     ]
    }
   ],
   "source": [
    "print(accuracy_score(y_test,pred_k))\n",
    "print(classification_report(y_test,pred_k))\n",
    "print(confusion_matrix(y_test,pred_k))"
   ]
  },
  {
   "cell_type": "code",
   "execution_count": null,
   "metadata": {},
   "outputs": [],
   "source": [
    "# here we see gradient boosting do good job in this case"
   ]
  }
 ],
 "metadata": {
  "kernelspec": {
   "display_name": "Python 3",
   "language": "python",
   "name": "python3"
  },
  "language_info": {
   "codemirror_mode": {
    "name": "ipython",
    "version": 3
   },
   "file_extension": ".py",
   "mimetype": "text/x-python",
   "name": "python",
   "nbconvert_exporter": "python",
   "pygments_lexer": "ipython3",
   "version": "3.8.3"
  }
 },
 "nbformat": 4,
 "nbformat_minor": 4
}
